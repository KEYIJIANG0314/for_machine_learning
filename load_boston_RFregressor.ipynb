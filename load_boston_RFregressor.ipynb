{
 "cells": [
  {
   "cell_type": "code",
   "execution_count": null,
   "metadata": {},
   "outputs": [],
   "source": [
    "#用随机森林回归填补缺失值\n",
    "#sklearn.impute.SimpleImputer"
   ]
  },
  {
   "cell_type": "code",
   "execution_count": 1,
   "metadata": {},
   "outputs": [],
   "source": [
    "import numpy as np\n",
    "import pandas as pd\n",
    "import matplotlib.pyplot as plt\n",
    "from sklearn.datasets import load_boston\n",
    "from sklearn.impute import SimpleImputer #填补缺失值\n",
    "from sklearn.ensemble import RandomForestRegressor\n",
    "from sklearn.model_selection import cross_val_score"
   ]
  },
  {
   "cell_type": "code",
   "execution_count": 2,
   "metadata": {},
   "outputs": [
    {
     "data": {
      "text/plain": [
       "(506, 13)"
      ]
     },
     "execution_count": 2,
     "metadata": {},
     "output_type": "execute_result"
    }
   ],
   "source": [
    "dataset = load_boston()\n",
    "dataset.data.shape\n",
    "#target是连续性变量的数据做回归"
   ]
  },
  {
   "cell_type": "code",
   "execution_count": 3,
   "metadata": {},
   "outputs": [],
   "source": [
    "X_full, y_full = dataset.data, dataset.target"
   ]
  },
  {
   "cell_type": "code",
   "execution_count": 4,
   "metadata": {},
   "outputs": [],
   "source": [
    "n_samples = X_full.shape[0]\n",
    "n_features = X_full.shape[1]"
   ]
  },
  {
   "cell_type": "code",
   "execution_count": 6,
   "metadata": {},
   "outputs": [],
   "source": [
    "rng = np.random.RandomState(0)\n",
    "missing_rate = 0.5\n",
    "n_missing_samples = int(np.floor(n_samples * n_features * missing_rate))"
   ]
  },
  {
   "cell_type": "code",
   "execution_count": 7,
   "metadata": {},
   "outputs": [],
   "source": [
    "missing_features = rng.randint(0,n_features,n_missing_samples)\n",
    "missing_samples = rng.randint(0,n_samples,n_missing_samples)\n",
    "#缺失少的话可以直接用rng.choice可以随机抽取不重复的随机数"
   ]
  },
  {
   "cell_type": "code",
   "execution_count": 8,
   "metadata": {},
   "outputs": [],
   "source": [
    "X_missing = X_full.copy()\n",
    "y_missing = y_full.copy()\n",
    "X_missing[missing_samples,missing_features] = np.nan"
   ]
  },
  {
   "cell_type": "code",
   "execution_count": 9,
   "metadata": {},
   "outputs": [],
   "source": [
    "X_missing = pd.DataFrame(X_missing)"
   ]
  },
  {
   "cell_type": "code",
   "execution_count": 10,
   "metadata": {},
   "outputs": [
    {
     "data": {
      "text/html": [
       "<div>\n",
       "<style scoped>\n",
       "    .dataframe tbody tr th:only-of-type {\n",
       "        vertical-align: middle;\n",
       "    }\n",
       "\n",
       "    .dataframe tbody tr th {\n",
       "        vertical-align: top;\n",
       "    }\n",
       "\n",
       "    .dataframe thead th {\n",
       "        text-align: right;\n",
       "    }\n",
       "</style>\n",
       "<table border=\"1\" class=\"dataframe\">\n",
       "  <thead>\n",
       "    <tr style=\"text-align: right;\">\n",
       "      <th></th>\n",
       "      <th>0</th>\n",
       "      <th>1</th>\n",
       "      <th>2</th>\n",
       "      <th>3</th>\n",
       "      <th>4</th>\n",
       "      <th>5</th>\n",
       "      <th>6</th>\n",
       "      <th>7</th>\n",
       "      <th>8</th>\n",
       "      <th>9</th>\n",
       "      <th>10</th>\n",
       "      <th>11</th>\n",
       "      <th>12</th>\n",
       "    </tr>\n",
       "  </thead>\n",
       "  <tbody>\n",
       "    <tr>\n",
       "      <th>0</th>\n",
       "      <td>NaN</td>\n",
       "      <td>18.0</td>\n",
       "      <td>NaN</td>\n",
       "      <td>NaN</td>\n",
       "      <td>0.538</td>\n",
       "      <td>NaN</td>\n",
       "      <td>65.2</td>\n",
       "      <td>4.0900</td>\n",
       "      <td>1.0</td>\n",
       "      <td>296.0</td>\n",
       "      <td>NaN</td>\n",
       "      <td>NaN</td>\n",
       "      <td>4.98</td>\n",
       "    </tr>\n",
       "    <tr>\n",
       "      <th>1</th>\n",
       "      <td>0.02731</td>\n",
       "      <td>0.0</td>\n",
       "      <td>NaN</td>\n",
       "      <td>0.0</td>\n",
       "      <td>0.469</td>\n",
       "      <td>NaN</td>\n",
       "      <td>78.9</td>\n",
       "      <td>4.9671</td>\n",
       "      <td>2.0</td>\n",
       "      <td>NaN</td>\n",
       "      <td>NaN</td>\n",
       "      <td>396.90</td>\n",
       "      <td>9.14</td>\n",
       "    </tr>\n",
       "    <tr>\n",
       "      <th>2</th>\n",
       "      <td>0.02729</td>\n",
       "      <td>NaN</td>\n",
       "      <td>7.07</td>\n",
       "      <td>0.0</td>\n",
       "      <td>NaN</td>\n",
       "      <td>7.185</td>\n",
       "      <td>61.1</td>\n",
       "      <td>NaN</td>\n",
       "      <td>2.0</td>\n",
       "      <td>242.0</td>\n",
       "      <td>NaN</td>\n",
       "      <td>NaN</td>\n",
       "      <td>NaN</td>\n",
       "    </tr>\n",
       "    <tr>\n",
       "      <th>3</th>\n",
       "      <td>NaN</td>\n",
       "      <td>NaN</td>\n",
       "      <td>NaN</td>\n",
       "      <td>0.0</td>\n",
       "      <td>0.458</td>\n",
       "      <td>NaN</td>\n",
       "      <td>45.8</td>\n",
       "      <td>NaN</td>\n",
       "      <td>NaN</td>\n",
       "      <td>222.0</td>\n",
       "      <td>18.7</td>\n",
       "      <td>NaN</td>\n",
       "      <td>NaN</td>\n",
       "    </tr>\n",
       "    <tr>\n",
       "      <th>4</th>\n",
       "      <td>NaN</td>\n",
       "      <td>0.0</td>\n",
       "      <td>2.18</td>\n",
       "      <td>0.0</td>\n",
       "      <td>NaN</td>\n",
       "      <td>7.147</td>\n",
       "      <td>NaN</td>\n",
       "      <td>NaN</td>\n",
       "      <td>NaN</td>\n",
       "      <td>NaN</td>\n",
       "      <td>18.7</td>\n",
       "      <td>NaN</td>\n",
       "      <td>5.33</td>\n",
       "    </tr>\n",
       "    <tr>\n",
       "      <th>...</th>\n",
       "      <td>...</td>\n",
       "      <td>...</td>\n",
       "      <td>...</td>\n",
       "      <td>...</td>\n",
       "      <td>...</td>\n",
       "      <td>...</td>\n",
       "      <td>...</td>\n",
       "      <td>...</td>\n",
       "      <td>...</td>\n",
       "      <td>...</td>\n",
       "      <td>...</td>\n",
       "      <td>...</td>\n",
       "      <td>...</td>\n",
       "    </tr>\n",
       "    <tr>\n",
       "      <th>501</th>\n",
       "      <td>NaN</td>\n",
       "      <td>NaN</td>\n",
       "      <td>NaN</td>\n",
       "      <td>0.0</td>\n",
       "      <td>0.573</td>\n",
       "      <td>NaN</td>\n",
       "      <td>69.1</td>\n",
       "      <td>NaN</td>\n",
       "      <td>1.0</td>\n",
       "      <td>NaN</td>\n",
       "      <td>21.0</td>\n",
       "      <td>NaN</td>\n",
       "      <td>9.67</td>\n",
       "    </tr>\n",
       "    <tr>\n",
       "      <th>502</th>\n",
       "      <td>0.04527</td>\n",
       "      <td>0.0</td>\n",
       "      <td>11.93</td>\n",
       "      <td>0.0</td>\n",
       "      <td>0.573</td>\n",
       "      <td>6.120</td>\n",
       "      <td>76.7</td>\n",
       "      <td>2.2875</td>\n",
       "      <td>1.0</td>\n",
       "      <td>273.0</td>\n",
       "      <td>NaN</td>\n",
       "      <td>396.90</td>\n",
       "      <td>9.08</td>\n",
       "    </tr>\n",
       "    <tr>\n",
       "      <th>503</th>\n",
       "      <td>NaN</td>\n",
       "      <td>NaN</td>\n",
       "      <td>11.93</td>\n",
       "      <td>NaN</td>\n",
       "      <td>0.573</td>\n",
       "      <td>6.976</td>\n",
       "      <td>91.0</td>\n",
       "      <td>NaN</td>\n",
       "      <td>NaN</td>\n",
       "      <td>NaN</td>\n",
       "      <td>21.0</td>\n",
       "      <td>NaN</td>\n",
       "      <td>5.64</td>\n",
       "    </tr>\n",
       "    <tr>\n",
       "      <th>504</th>\n",
       "      <td>0.10959</td>\n",
       "      <td>0.0</td>\n",
       "      <td>11.93</td>\n",
       "      <td>NaN</td>\n",
       "      <td>0.573</td>\n",
       "      <td>NaN</td>\n",
       "      <td>89.3</td>\n",
       "      <td>NaN</td>\n",
       "      <td>1.0</td>\n",
       "      <td>NaN</td>\n",
       "      <td>21.0</td>\n",
       "      <td>393.45</td>\n",
       "      <td>6.48</td>\n",
       "    </tr>\n",
       "    <tr>\n",
       "      <th>505</th>\n",
       "      <td>0.04741</td>\n",
       "      <td>0.0</td>\n",
       "      <td>11.93</td>\n",
       "      <td>0.0</td>\n",
       "      <td>0.573</td>\n",
       "      <td>6.030</td>\n",
       "      <td>NaN</td>\n",
       "      <td>NaN</td>\n",
       "      <td>1.0</td>\n",
       "      <td>NaN</td>\n",
       "      <td>NaN</td>\n",
       "      <td>396.90</td>\n",
       "      <td>7.88</td>\n",
       "    </tr>\n",
       "  </tbody>\n",
       "</table>\n",
       "<p>506 rows × 13 columns</p>\n",
       "</div>"
      ],
      "text/plain": [
       "           0     1      2    3      4      5     6       7    8      9    10  \\\n",
       "0        NaN  18.0    NaN  NaN  0.538    NaN  65.2  4.0900  1.0  296.0   NaN   \n",
       "1    0.02731   0.0    NaN  0.0  0.469    NaN  78.9  4.9671  2.0    NaN   NaN   \n",
       "2    0.02729   NaN   7.07  0.0    NaN  7.185  61.1     NaN  2.0  242.0   NaN   \n",
       "3        NaN   NaN    NaN  0.0  0.458    NaN  45.8     NaN  NaN  222.0  18.7   \n",
       "4        NaN   0.0   2.18  0.0    NaN  7.147   NaN     NaN  NaN    NaN  18.7   \n",
       "..       ...   ...    ...  ...    ...    ...   ...     ...  ...    ...   ...   \n",
       "501      NaN   NaN    NaN  0.0  0.573    NaN  69.1     NaN  1.0    NaN  21.0   \n",
       "502  0.04527   0.0  11.93  0.0  0.573  6.120  76.7  2.2875  1.0  273.0   NaN   \n",
       "503      NaN   NaN  11.93  NaN  0.573  6.976  91.0     NaN  NaN    NaN  21.0   \n",
       "504  0.10959   0.0  11.93  NaN  0.573    NaN  89.3     NaN  1.0    NaN  21.0   \n",
       "505  0.04741   0.0  11.93  0.0  0.573  6.030   NaN     NaN  1.0    NaN   NaN   \n",
       "\n",
       "         11    12  \n",
       "0       NaN  4.98  \n",
       "1    396.90  9.14  \n",
       "2       NaN   NaN  \n",
       "3       NaN   NaN  \n",
       "4       NaN  5.33  \n",
       "..      ...   ...  \n",
       "501     NaN  9.67  \n",
       "502  396.90  9.08  \n",
       "503     NaN  5.64  \n",
       "504  393.45  6.48  \n",
       "505  396.90  7.88  \n",
       "\n",
       "[506 rows x 13 columns]"
      ]
     },
     "execution_count": 10,
     "metadata": {},
     "output_type": "execute_result"
    }
   ],
   "source": [
    "X_missing"
   ]
  },
  {
   "cell_type": "code",
   "execution_count": 11,
   "metadata": {},
   "outputs": [
    {
     "data": {
      "text/plain": [
       "array([[3.62757895e+00, 1.80000000e+01, 1.11634641e+01, ...,\n",
       "        1.85211921e+01, 3.52741952e+02, 4.98000000e+00],\n",
       "       [2.73100000e-02, 0.00000000e+00, 1.11634641e+01, ...,\n",
       "        1.85211921e+01, 3.96900000e+02, 9.14000000e+00],\n",
       "       [2.72900000e-02, 1.07229508e+01, 7.07000000e+00, ...,\n",
       "        1.85211921e+01, 3.52741952e+02, 1.29917666e+01],\n",
       "       ...,\n",
       "       [3.62757895e+00, 1.07229508e+01, 1.19300000e+01, ...,\n",
       "        2.10000000e+01, 3.52741952e+02, 5.64000000e+00],\n",
       "       [1.09590000e-01, 0.00000000e+00, 1.19300000e+01, ...,\n",
       "        2.10000000e+01, 3.93450000e+02, 6.48000000e+00],\n",
       "       [4.74100000e-02, 0.00000000e+00, 1.19300000e+01, ...,\n",
       "        1.85211921e+01, 3.96900000e+02, 7.88000000e+00]])"
      ]
     },
     "execution_count": 11,
     "metadata": {},
     "output_type": "execute_result"
    }
   ],
   "source": [
    "imp_mean = SimpleImputer(missing_values=np.nan, strategy='mean') #实例化\n",
    "X_missing_mean = imp_mean.fit_transform(X_missing) #fit+predicate >>>fit_transform\n",
    "X_missing_mean"
   ]
  },
  {
   "cell_type": "code",
   "execution_count": 13,
   "metadata": {},
   "outputs": [
    {
     "data": {
      "text/plain": [
       "0     0\n",
       "1     0\n",
       "2     0\n",
       "3     0\n",
       "4     0\n",
       "5     0\n",
       "6     0\n",
       "7     0\n",
       "8     0\n",
       "9     0\n",
       "10    0\n",
       "11    0\n",
       "12    0\n",
       "dtype: int64"
      ]
     },
     "execution_count": 13,
     "metadata": {},
     "output_type": "execute_result"
    }
   ],
   "source": [
    "pd.DataFrame(X_missing_mean).isnull().sum() #check empty"
   ]
  },
  {
   "cell_type": "code",
   "execution_count": 12,
   "metadata": {},
   "outputs": [
    {
     "data": {
      "text/plain": [
       "array([[0.0000e+00, 1.8000e+01, 0.0000e+00, ..., 0.0000e+00, 0.0000e+00,\n",
       "        4.9800e+00],\n",
       "       [2.7310e-02, 0.0000e+00, 0.0000e+00, ..., 0.0000e+00, 3.9690e+02,\n",
       "        9.1400e+00],\n",
       "       [2.7290e-02, 0.0000e+00, 7.0700e+00, ..., 0.0000e+00, 0.0000e+00,\n",
       "        0.0000e+00],\n",
       "       ...,\n",
       "       [0.0000e+00, 0.0000e+00, 1.1930e+01, ..., 2.1000e+01, 0.0000e+00,\n",
       "        5.6400e+00],\n",
       "       [1.0959e-01, 0.0000e+00, 1.1930e+01, ..., 2.1000e+01, 3.9345e+02,\n",
       "        6.4800e+00],\n",
       "       [4.7410e-02, 0.0000e+00, 1.1930e+01, ..., 0.0000e+00, 3.9690e+02,\n",
       "        7.8800e+00]])"
      ]
     },
     "execution_count": 12,
     "metadata": {},
     "output_type": "execute_result"
    }
   ],
   "source": [
    "imp_0 = SimpleImputer(missing_values=np.nan, strategy='constant',fill_value=0)\n",
    "X_missing_0 = imp_0.fit_transform(X_missing)\n",
    "X_missing_0"
   ]
  },
  {
   "cell_type": "code",
   "execution_count": 14,
   "metadata": {},
   "outputs": [],
   "source": [
    "X_missing_reg = X_missing.copy()"
   ]
  },
  {
   "cell_type": "code",
   "execution_count": 15,
   "metadata": {},
   "outputs": [],
   "source": [
    "sortindex = np.argsort(X_missing_reg.isnull().sum(axis=0)).values #找出数据集中缺失值从小到大特征的排序 argsort返回的是索引\n"
   ]
  },
  {
   "cell_type": "code",
   "execution_count": 16,
   "metadata": {},
   "outputs": [],
   "source": [
    "for i in sortindex:\n",
    "    df = X_missing_reg\n",
    "    fillc = df.iloc[:,i]\n",
    "    df = pd.concat([df[df!=fillc],pd.DataFrame(y_full)])\n",
    "    df_0 = SimpleImputer(missing_values=np.nan,\n",
    "                        strategy = 'constant', fill_value=0).fit_transform(df)\n",
    "    \n",
    "    Ytrain = fillc[fillc.notnull()] #选中要填充的特征中存在的值\n",
    "    Ytest = fillc[fillc.isnull()] #需要所带的索引\n",
    "    Xtrain = df_0[Ytrain.index,:] #非空值对应的记录\n",
    "    Xtest = df_0[Ytest.index,:]\n",
    "    \n",
    "    rfc = RandomForestRegressor(n_estimators=100)\n",
    "    rfc = rfc.fit(Xtrain,Ytrain)\n",
    "    Ypredict = rfc.predict(Xtest) #覆盖Ytest\n",
    "    \n",
    "    X_missing_reg.loc[X_missing_reg.iloc[:,i].isnull(),i] = Ypredict\n",
    "    "
   ]
  },
  {
   "cell_type": "code",
   "execution_count": 17,
   "metadata": {},
   "outputs": [
    {
     "data": {
      "text/html": [
       "<div>\n",
       "<style scoped>\n",
       "    .dataframe tbody tr th:only-of-type {\n",
       "        vertical-align: middle;\n",
       "    }\n",
       "\n",
       "    .dataframe tbody tr th {\n",
       "        vertical-align: top;\n",
       "    }\n",
       "\n",
       "    .dataframe thead th {\n",
       "        text-align: right;\n",
       "    }\n",
       "</style>\n",
       "<table border=\"1\" class=\"dataframe\">\n",
       "  <thead>\n",
       "    <tr style=\"text-align: right;\">\n",
       "      <th></th>\n",
       "      <th>0</th>\n",
       "      <th>1</th>\n",
       "      <th>2</th>\n",
       "      <th>3</th>\n",
       "      <th>4</th>\n",
       "      <th>5</th>\n",
       "      <th>6</th>\n",
       "      <th>7</th>\n",
       "      <th>8</th>\n",
       "      <th>9</th>\n",
       "      <th>10</th>\n",
       "      <th>11</th>\n",
       "      <th>12</th>\n",
       "    </tr>\n",
       "  </thead>\n",
       "  <tbody>\n",
       "    <tr>\n",
       "      <th>0</th>\n",
       "      <td>0.013444</td>\n",
       "      <td>18.0</td>\n",
       "      <td>4.5663</td>\n",
       "      <td>0.0</td>\n",
       "      <td>0.53800</td>\n",
       "      <td>5.30330</td>\n",
       "      <td>65.200</td>\n",
       "      <td>4.090000</td>\n",
       "      <td>1.0</td>\n",
       "      <td>296.00</td>\n",
       "      <td>14.277</td>\n",
       "      <td>12.7513</td>\n",
       "      <td>4.9800</td>\n",
       "    </tr>\n",
       "    <tr>\n",
       "      <th>1</th>\n",
       "      <td>0.027310</td>\n",
       "      <td>0.0</td>\n",
       "      <td>4.5757</td>\n",
       "      <td>0.0</td>\n",
       "      <td>0.46900</td>\n",
       "      <td>5.09413</td>\n",
       "      <td>78.900</td>\n",
       "      <td>4.967100</td>\n",
       "      <td>2.0</td>\n",
       "      <td>302.58</td>\n",
       "      <td>14.437</td>\n",
       "      <td>396.9000</td>\n",
       "      <td>9.1400</td>\n",
       "    </tr>\n",
       "    <tr>\n",
       "      <th>2</th>\n",
       "      <td>0.027290</td>\n",
       "      <td>0.0</td>\n",
       "      <td>7.0700</td>\n",
       "      <td>0.0</td>\n",
       "      <td>0.39441</td>\n",
       "      <td>7.18500</td>\n",
       "      <td>61.100</td>\n",
       "      <td>4.012500</td>\n",
       "      <td>2.0</td>\n",
       "      <td>242.00</td>\n",
       "      <td>13.667</td>\n",
       "      <td>9.6756</td>\n",
       "      <td>10.5891</td>\n",
       "    </tr>\n",
       "    <tr>\n",
       "      <th>3</th>\n",
       "      <td>0.013437</td>\n",
       "      <td>0.0</td>\n",
       "      <td>4.5838</td>\n",
       "      <td>0.0</td>\n",
       "      <td>0.45800</td>\n",
       "      <td>5.28535</td>\n",
       "      <td>45.800</td>\n",
       "      <td>4.009953</td>\n",
       "      <td>5.0</td>\n",
       "      <td>222.00</td>\n",
       "      <td>18.700</td>\n",
       "      <td>11.3281</td>\n",
       "      <td>10.5739</td>\n",
       "    </tr>\n",
       "    <tr>\n",
       "      <th>4</th>\n",
       "      <td>0.013845</td>\n",
       "      <td>0.0</td>\n",
       "      <td>2.1800</td>\n",
       "      <td>0.0</td>\n",
       "      <td>0.39488</td>\n",
       "      <td>7.14700</td>\n",
       "      <td>32.130</td>\n",
       "      <td>4.010600</td>\n",
       "      <td>5.0</td>\n",
       "      <td>301.40</td>\n",
       "      <td>18.700</td>\n",
       "      <td>9.5656</td>\n",
       "      <td>5.3300</td>\n",
       "    </tr>\n",
       "    <tr>\n",
       "      <th>...</th>\n",
       "      <td>...</td>\n",
       "      <td>...</td>\n",
       "      <td>...</td>\n",
       "      <td>...</td>\n",
       "      <td>...</td>\n",
       "      <td>...</td>\n",
       "      <td>...</td>\n",
       "      <td>...</td>\n",
       "      <td>...</td>\n",
       "      <td>...</td>\n",
       "      <td>...</td>\n",
       "      <td>...</td>\n",
       "      <td>...</td>\n",
       "    </tr>\n",
       "    <tr>\n",
       "      <th>501</th>\n",
       "      <td>0.013453</td>\n",
       "      <td>0.0</td>\n",
       "      <td>4.5907</td>\n",
       "      <td>0.0</td>\n",
       "      <td>0.57300</td>\n",
       "      <td>5.08395</td>\n",
       "      <td>69.100</td>\n",
       "      <td>4.016439</td>\n",
       "      <td>1.0</td>\n",
       "      <td>301.29</td>\n",
       "      <td>21.000</td>\n",
       "      <td>10.8312</td>\n",
       "      <td>9.6700</td>\n",
       "    </tr>\n",
       "    <tr>\n",
       "      <th>502</th>\n",
       "      <td>0.045270</td>\n",
       "      <td>0.0</td>\n",
       "      <td>11.9300</td>\n",
       "      <td>0.0</td>\n",
       "      <td>0.57300</td>\n",
       "      <td>6.12000</td>\n",
       "      <td>76.700</td>\n",
       "      <td>2.287500</td>\n",
       "      <td>1.0</td>\n",
       "      <td>273.00</td>\n",
       "      <td>13.940</td>\n",
       "      <td>396.9000</td>\n",
       "      <td>9.0800</td>\n",
       "    </tr>\n",
       "    <tr>\n",
       "      <th>503</th>\n",
       "      <td>0.013733</td>\n",
       "      <td>0.0</td>\n",
       "      <td>11.9300</td>\n",
       "      <td>0.0</td>\n",
       "      <td>0.57300</td>\n",
       "      <td>6.97600</td>\n",
       "      <td>91.000</td>\n",
       "      <td>4.019106</td>\n",
       "      <td>5.0</td>\n",
       "      <td>301.34</td>\n",
       "      <td>21.000</td>\n",
       "      <td>8.4254</td>\n",
       "      <td>5.6400</td>\n",
       "    </tr>\n",
       "    <tr>\n",
       "      <th>504</th>\n",
       "      <td>0.109590</td>\n",
       "      <td>0.0</td>\n",
       "      <td>11.9300</td>\n",
       "      <td>0.0</td>\n",
       "      <td>0.57300</td>\n",
       "      <td>5.28935</td>\n",
       "      <td>89.300</td>\n",
       "      <td>4.016617</td>\n",
       "      <td>1.0</td>\n",
       "      <td>301.35</td>\n",
       "      <td>21.000</td>\n",
       "      <td>393.4500</td>\n",
       "      <td>6.4800</td>\n",
       "    </tr>\n",
       "    <tr>\n",
       "      <th>505</th>\n",
       "      <td>0.047410</td>\n",
       "      <td>0.0</td>\n",
       "      <td>11.9300</td>\n",
       "      <td>0.0</td>\n",
       "      <td>0.57300</td>\n",
       "      <td>6.03000</td>\n",
       "      <td>42.699</td>\n",
       "      <td>4.010718</td>\n",
       "      <td>1.0</td>\n",
       "      <td>305.05</td>\n",
       "      <td>14.515</td>\n",
       "      <td>396.9000</td>\n",
       "      <td>7.8800</td>\n",
       "    </tr>\n",
       "  </tbody>\n",
       "</table>\n",
       "<p>506 rows × 13 columns</p>\n",
       "</div>"
      ],
      "text/plain": [
       "            0     1        2    3        4        5       6         7    8  \\\n",
       "0    0.013444  18.0   4.5663  0.0  0.53800  5.30330  65.200  4.090000  1.0   \n",
       "1    0.027310   0.0   4.5757  0.0  0.46900  5.09413  78.900  4.967100  2.0   \n",
       "2    0.027290   0.0   7.0700  0.0  0.39441  7.18500  61.100  4.012500  2.0   \n",
       "3    0.013437   0.0   4.5838  0.0  0.45800  5.28535  45.800  4.009953  5.0   \n",
       "4    0.013845   0.0   2.1800  0.0  0.39488  7.14700  32.130  4.010600  5.0   \n",
       "..        ...   ...      ...  ...      ...      ...     ...       ...  ...   \n",
       "501  0.013453   0.0   4.5907  0.0  0.57300  5.08395  69.100  4.016439  1.0   \n",
       "502  0.045270   0.0  11.9300  0.0  0.57300  6.12000  76.700  2.287500  1.0   \n",
       "503  0.013733   0.0  11.9300  0.0  0.57300  6.97600  91.000  4.019106  5.0   \n",
       "504  0.109590   0.0  11.9300  0.0  0.57300  5.28935  89.300  4.016617  1.0   \n",
       "505  0.047410   0.0  11.9300  0.0  0.57300  6.03000  42.699  4.010718  1.0   \n",
       "\n",
       "          9      10        11       12  \n",
       "0    296.00  14.277   12.7513   4.9800  \n",
       "1    302.58  14.437  396.9000   9.1400  \n",
       "2    242.00  13.667    9.6756  10.5891  \n",
       "3    222.00  18.700   11.3281  10.5739  \n",
       "4    301.40  18.700    9.5656   5.3300  \n",
       "..      ...     ...       ...      ...  \n",
       "501  301.29  21.000   10.8312   9.6700  \n",
       "502  273.00  13.940  396.9000   9.0800  \n",
       "503  301.34  21.000    8.4254   5.6400  \n",
       "504  301.35  21.000  393.4500   6.4800  \n",
       "505  305.05  14.515  396.9000   7.8800  \n",
       "\n",
       "[506 rows x 13 columns]"
      ]
     },
     "execution_count": 17,
     "metadata": {},
     "output_type": "execute_result"
    }
   ],
   "source": [
    "X_missing_reg"
   ]
  },
  {
   "cell_type": "code",
   "execution_count": 20,
   "metadata": {},
   "outputs": [
    {
     "data": {
      "text/plain": [
       "0     0\n",
       "1     0\n",
       "2     0\n",
       "3     0\n",
       "4     0\n",
       "5     0\n",
       "6     0\n",
       "7     0\n",
       "8     0\n",
       "9     0\n",
       "10    0\n",
       "11    0\n",
       "12    0\n",
       "dtype: int64"
      ]
     },
     "execution_count": 20,
     "metadata": {},
     "output_type": "execute_result"
    }
   ],
   "source": [
    "X_missing_reg.isnull().sum()"
   ]
  },
  {
   "cell_type": "code",
   "execution_count": 18,
   "metadata": {},
   "outputs": [],
   "source": [
    "X = [X_full, X_missing_mean, X_missing_0, X_missing_reg]\n",
    "\n",
    "mse = []\n",
    "\n",
    "for x in X:\n",
    "    estimator = RandomForestRegressor(random_state=0, n_estimators=100)\n",
    "    scores = cross_val_score(estimator,x,y_full,scoring='neg_mean_squared_error', cv=5).mean()\n",
    "    mse.append(scores*(-1))\n"
   ]
  },
  {
   "cell_type": "code",
   "execution_count": 19,
   "metadata": {},
   "outputs": [
    {
     "data": {
      "text/plain": [
       "[21.571667100368845,\n",
       " 40.848037216676374,\n",
       " 49.626793201980185,\n",
       " 40.981067421355064]"
      ]
     },
     "execution_count": 19,
     "metadata": {},
     "output_type": "execute_result"
    }
   ],
   "source": [
    "mse"
   ]
  },
  {
   "cell_type": "code",
   "execution_count": 20,
   "metadata": {},
   "outputs": [
    {
     "data": {
      "text/plain": [
       "[('X_full', 21.571667100368845),\n",
       " ('X_missing_mean', 40.848037216676374),\n",
       " ('X_missing_0', 49.626793201980185),\n",
       " ('X_missing_reg', 40.981067421355064)]"
      ]
     },
     "execution_count": 20,
     "metadata": {},
     "output_type": "execute_result"
    }
   ],
   "source": [
    "[*zip(['X_full','X_missing_mean','X_missing_0','X_missing_reg'],mse)]"
   ]
  },
  {
   "cell_type": "code",
   "execution_count": 21,
   "metadata": {},
   "outputs": [
    {
     "data": {
      "image/png": "[encoded data removed]",
      "text/plain": [
       "<Figure size 864x432 with 1 Axes>"
      ]
     },
     "metadata": {
      "needs_background": "light"
     },
     "output_type": "display_data"
    }
   ],
   "source": [
    "x_labels = ['Full data',\n",
    "            'Mean Imputation',\n",
    "            'Zero Imputation',\n",
    "            'Regressor Imputation']\n",
    "colors = ['r', 'g', 'b', 'orange']\n",
    "plt.figure(figsize=(12, 6))\n",
    "ax = plt.subplot(111)\n",
    "for i in np.arange(len(mse)):\n",
    "    ax.barh(i, mse[i],color=colors[i], alpha=0.6, align='center')\n",
    "ax.set_title('Imputation Techniques with Boston Data')\n",
    "ax.set_xlim(left=np.min(mse) * 0.9,\n",
    "            right=np.max(mse) * 1.1)\n",
    "ax.set_yticks(np.arange(len(mse)))\n",
    "ax.set_xlabel('MSE')\n",
    "ax.set_yticklabels(x_labels)\n",
    "plt.show()"
   ]
  }
 ],
 "metadata": {
  "kernelspec": {
   "display_name": "Python 3",
   "language": "python",
   "name": "python3"
  },
  "language_info": {
   "codemirror_mode": {
    "name": "ipython",
    "version": 3
   },
   "file_extension": ".py",
   "mimetype": "text/x-python",
   "name": "python",
   "nbconvert_exporter": "python",
   "pygments_lexer": "ipython3",
   "version": "3.8.3"
  }
 },
 "nbformat": 4,
 "nbformat_minor": 4
}
